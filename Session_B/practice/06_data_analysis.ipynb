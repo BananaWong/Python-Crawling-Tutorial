{
 "cells": [
  {
   "cell_type": "markdown",
   "metadata": {
    "collapsed": true
   },
   "source": [
    "## Bonus: 資料清理、資料視覺化與資料分析\n",
    "\n",
    "到這邊我們已經將需要的票房資料與評論星等、內容都爬下來囉!\n",
    "\n",
    "在進入分析之前，我們需要對抓下來的資料做一些簡單的清洗"
   ]
  },
  {
   "cell_type": "markdown",
   "metadata": {},
   "source": [
    "### 1. 票房資料清洗\n",
    "票房的資料可以看到是以 str 儲存，為了方便之後的分析，要轉成數字型態 float or int"
   ]
  },
  {
   "cell_type": "code",
   "execution_count": 1,
   "metadata": {},
   "outputs": [
    {
     "data": {
      "text/html": [
       "<div>\n",
       "<style>\n",
       "    .dataframe thead tr:only-child th {\n",
       "        text-align: right;\n",
       "    }\n",
       "\n",
       "    .dataframe thead th {\n",
       "        text-align: left;\n",
       "    }\n",
       "\n",
       "    .dataframe tbody tr th {\n",
       "        vertical-align: top;\n",
       "    }\n",
       "</style>\n",
       "<table border=\"1\" class=\"dataframe\">\n",
       "  <thead>\n",
       "    <tr style=\"text-align: right;\">\n",
       "      <th></th>\n",
       "      <th>排名</th>\n",
       "      <th>中文片名</th>\n",
       "      <th>英文片名</th>\n",
       "      <th>院數</th>\n",
       "      <th>映期</th>\n",
       "      <th>上映日期</th>\n",
       "      <th>平均票房</th>\n",
       "      <th>累積票房</th>\n",
       "      <th>年度</th>\n",
       "    </tr>\n",
       "  </thead>\n",
       "  <tbody>\n",
       "    <tr>\n",
       "      <th>0</th>\n",
       "      <td>1</td>\n",
       "      <td>美國隊長3 : 英雄內戰</td>\n",
       "      <td>Captain America 3</td>\n",
       "      <td>24</td>\n",
       "      <td>86</td>\n",
       "      <td>2016/04/27</td>\n",
       "      <td>7,652,852</td>\n",
       "      <td>183,668,450</td>\n",
       "      <td>2016</td>\n",
       "    </tr>\n",
       "    <tr>\n",
       "      <th>1</th>\n",
       "      <td>2</td>\n",
       "      <td>惡棍英雄：死侍</td>\n",
       "      <td>Deadpool</td>\n",
       "      <td>23</td>\n",
       "      <td>80</td>\n",
       "      <td>2016/02/09</td>\n",
       "      <td>6,200,975</td>\n",
       "      <td>142,622,425</td>\n",
       "      <td>2016</td>\n",
       "    </tr>\n",
       "    <tr>\n",
       "      <th>2</th>\n",
       "      <td>3</td>\n",
       "      <td>屍速列車</td>\n",
       "      <td>Train to Busan</td>\n",
       "      <td>22</td>\n",
       "      <td>78</td>\n",
       "      <td>2016/09/02</td>\n",
       "      <td>6,047,077</td>\n",
       "      <td>133,035,683</td>\n",
       "      <td>2016</td>\n",
       "    </tr>\n",
       "    <tr>\n",
       "      <th>3</th>\n",
       "      <td>4</td>\n",
       "      <td>怪獸與牠們的產地</td>\n",
       "      <td>Fantastic Beasts and Where to Find Them</td>\n",
       "      <td>24</td>\n",
       "      <td>113</td>\n",
       "      <td>2016/11/17</td>\n",
       "      <td>4,942,212</td>\n",
       "      <td>118,613,078</td>\n",
       "      <td>2016</td>\n",
       "    </tr>\n",
       "    <tr>\n",
       "      <th>4</th>\n",
       "      <td>5</td>\n",
       "      <td>奇異博士</td>\n",
       "      <td>Doctor Strange</td>\n",
       "      <td>23</td>\n",
       "      <td>108</td>\n",
       "      <td>2016/10/25</td>\n",
       "      <td>5,049,736</td>\n",
       "      <td>116,143,931</td>\n",
       "      <td>2016</td>\n",
       "    </tr>\n",
       "  </tbody>\n",
       "</table>\n",
       "</div>"
      ],
      "text/plain": [
       "   排名          中文片名                                     英文片名  院數   映期  \\\n",
       "0   1  美國隊長3 : 英雄內戰                        Captain America 3  24   86   \n",
       "1   2       惡棍英雄：死侍                                 Deadpool  23   80   \n",
       "2   3          屍速列車                           Train to Busan  22   78   \n",
       "3   4      怪獸與牠們的產地  Fantastic Beasts and Where to Find Them  24  113   \n",
       "4   5          奇異博士                           Doctor Strange  23  108   \n",
       "\n",
       "         上映日期       平均票房         累積票房    年度  \n",
       "0  2016/04/27  7,652,852  183,668,450  2016  \n",
       "1  2016/02/09  6,200,975  142,622,425  2016  \n",
       "2  2016/09/02  6,047,077  133,035,683  2016  \n",
       "3  2016/11/17  4,942,212  118,613,078  2016  \n",
       "4  2016/10/25  5,049,736  116,143,931  2016  "
      ]
     },
     "execution_count": 1,
     "metadata": {},
     "output_type": "execute_result"
    }
   ],
   "source": [
    "import pandas as pd \n",
    "movie_box = pd.read_csv(\"data/movies_box_office.csv\")\n",
    "movie_box.head()"
   ]
  },
  {
   "cell_type": "code",
   "execution_count": 2,
   "metadata": {
    "collapsed": true
   },
   "outputs": [],
   "source": [
    "movie_box[\"平均票房\"] = movie_box[\"平均票房\"].str.replace(\",\", \"\").astype(\"float\")\n",
    "movie_box[\"累積票房\"] = movie_box[\"累積票房\"].str.replace(\",\", \"\").astype(\"float\")"
   ]
  },
  {
   "cell_type": "code",
   "execution_count": 3,
   "metadata": {},
   "outputs": [
    {
     "data": {
      "text/html": [
       "<div>\n",
       "<style>\n",
       "    .dataframe thead tr:only-child th {\n",
       "        text-align: right;\n",
       "    }\n",
       "\n",
       "    .dataframe thead th {\n",
       "        text-align: left;\n",
       "    }\n",
       "\n",
       "    .dataframe tbody tr th {\n",
       "        vertical-align: top;\n",
       "    }\n",
       "</style>\n",
       "<table border=\"1\" class=\"dataframe\">\n",
       "  <thead>\n",
       "    <tr style=\"text-align: right;\">\n",
       "      <th></th>\n",
       "      <th>排名</th>\n",
       "      <th>中文片名</th>\n",
       "      <th>英文片名</th>\n",
       "      <th>院數</th>\n",
       "      <th>映期</th>\n",
       "      <th>上映日期</th>\n",
       "      <th>平均票房</th>\n",
       "      <th>累積票房</th>\n",
       "      <th>年度</th>\n",
       "    </tr>\n",
       "  </thead>\n",
       "  <tbody>\n",
       "    <tr>\n",
       "      <th>0</th>\n",
       "      <td>1</td>\n",
       "      <td>美國隊長3 : 英雄內戰</td>\n",
       "      <td>Captain America 3</td>\n",
       "      <td>24</td>\n",
       "      <td>86</td>\n",
       "      <td>2016/04/27</td>\n",
       "      <td>7652852.0</td>\n",
       "      <td>183668450.0</td>\n",
       "      <td>2016</td>\n",
       "    </tr>\n",
       "    <tr>\n",
       "      <th>1</th>\n",
       "      <td>2</td>\n",
       "      <td>惡棍英雄：死侍</td>\n",
       "      <td>Deadpool</td>\n",
       "      <td>23</td>\n",
       "      <td>80</td>\n",
       "      <td>2016/02/09</td>\n",
       "      <td>6200975.0</td>\n",
       "      <td>142622425.0</td>\n",
       "      <td>2016</td>\n",
       "    </tr>\n",
       "    <tr>\n",
       "      <th>2</th>\n",
       "      <td>3</td>\n",
       "      <td>屍速列車</td>\n",
       "      <td>Train to Busan</td>\n",
       "      <td>22</td>\n",
       "      <td>78</td>\n",
       "      <td>2016/09/02</td>\n",
       "      <td>6047077.0</td>\n",
       "      <td>133035683.0</td>\n",
       "      <td>2016</td>\n",
       "    </tr>\n",
       "    <tr>\n",
       "      <th>3</th>\n",
       "      <td>4</td>\n",
       "      <td>怪獸與牠們的產地</td>\n",
       "      <td>Fantastic Beasts and Where to Find Them</td>\n",
       "      <td>24</td>\n",
       "      <td>113</td>\n",
       "      <td>2016/11/17</td>\n",
       "      <td>4942212.0</td>\n",
       "      <td>118613078.0</td>\n",
       "      <td>2016</td>\n",
       "    </tr>\n",
       "    <tr>\n",
       "      <th>4</th>\n",
       "      <td>5</td>\n",
       "      <td>奇異博士</td>\n",
       "      <td>Doctor Strange</td>\n",
       "      <td>23</td>\n",
       "      <td>108</td>\n",
       "      <td>2016/10/25</td>\n",
       "      <td>5049736.0</td>\n",
       "      <td>116143931.0</td>\n",
       "      <td>2016</td>\n",
       "    </tr>\n",
       "  </tbody>\n",
       "</table>\n",
       "</div>"
      ],
      "text/plain": [
       "   排名          中文片名                                     英文片名  院數   映期  \\\n",
       "0   1  美國隊長3 : 英雄內戰                        Captain America 3  24   86   \n",
       "1   2       惡棍英雄：死侍                                 Deadpool  23   80   \n",
       "2   3          屍速列車                           Train to Busan  22   78   \n",
       "3   4      怪獸與牠們的產地  Fantastic Beasts and Where to Find Them  24  113   \n",
       "4   5          奇異博士                           Doctor Strange  23  108   \n",
       "\n",
       "         上映日期       平均票房         累積票房    年度  \n",
       "0  2016/04/27  7652852.0  183668450.0  2016  \n",
       "1  2016/02/09  6200975.0  142622425.0  2016  \n",
       "2  2016/09/02  6047077.0  133035683.0  2016  \n",
       "3  2016/11/17  4942212.0  118613078.0  2016  \n",
       "4  2016/10/25  5049736.0  116143931.0  2016  "
      ]
     },
     "execution_count": 3,
     "metadata": {},
     "output_type": "execute_result"
    }
   ],
   "source": [
    "movie_box.head()"
   ]
  },
  {
   "cell_type": "code",
   "execution_count": 4,
   "metadata": {
    "collapsed": true
   },
   "outputs": [],
   "source": [
    "movie_box.to_csv(\"data/movies_box_office_revised.csv\", index = False, encoding=\"utf-8\") # 儲存清洗後的資料"
   ]
  },
  {
   "cell_type": "markdown",
   "metadata": {},
   "source": [
    "### 2. 評論資料清洗\n",
    "電影名稱那邊可以看到中文跟英文都並在一起，透過 pandas 簡單的 split 函數可以拆開來"
   ]
  },
  {
   "cell_type": "code",
   "execution_count": 5,
   "metadata": {},
   "outputs": [
    {
     "data": {
      "text/html": [
       "<div>\n",
       "<style>\n",
       "    .dataframe thead tr:only-child th {\n",
       "        text-align: right;\n",
       "    }\n",
       "\n",
       "    .dataframe thead th {\n",
       "        text-align: left;\n",
       "    }\n",
       "\n",
       "    .dataframe tbody tr th {\n",
       "        vertical-align: top;\n",
       "    }\n",
       "</style>\n",
       "<table border=\"1\" class=\"dataframe\">\n",
       "  <thead>\n",
       "    <tr style=\"text-align: right;\">\n",
       "      <th></th>\n",
       "      <th>comments</th>\n",
       "      <th>movie</th>\n",
       "      <th>star</th>\n",
       "    </tr>\n",
       "  </thead>\n",
       "  <tbody>\n",
       "    <tr>\n",
       "      <th>0</th>\n",
       "      <td>難看.機場戰鬥變兒戲.鋼鐵人跟美國隊長戰鬥更是沒壯觀場面.普通拳打腳踢.特效動作場面都普普通通.</td>\n",
       "      <td>美國隊長3：英雄內戰\\n      Captain America: Civil War\\n</td>\n",
       "      <td>1</td>\n",
       "    </tr>\n",
       "    <tr>\n",
       "      <th>1</th>\n",
       "      <td>中間看到睡著,梗沒什麼變化,打來打去而已...</td>\n",
       "      <td>美國隊長3：英雄內戰\\n      Captain America: Civil War\\n</td>\n",
       "      <td>3</td>\n",
       "    </tr>\n",
       "    <tr>\n",
       "      <th>2</th>\n",
       "      <td>漫威這次終於拍出富有劇情內涵&amp;精彩動作的電影了真的是今年目前最好看的超級英雄電影!!!如果只...</td>\n",
       "      <td>美國隊長3：英雄內戰\\n      Captain America: Civil War\\n</td>\n",
       "      <td>5</td>\n",
       "    </tr>\n",
       "    <tr>\n",
       "      <th>3</th>\n",
       "      <td>只覺得黑寡婦在這部戲裡打得好辛苦啊....演黑寡婦真的越來越不容易了!其他的不方便爆雷囉。但...</td>\n",
       "      <td>美國隊長3：英雄內戰\\n      Captain America: Civil War\\n</td>\n",
       "      <td>5</td>\n",
       "    </tr>\n",
       "    <tr>\n",
       "      <th>4</th>\n",
       "      <td>抱著一桶爆米花喝著可樂！享受接下來的時間。不過水不要喝太多！因為毫無冷場的情節你是不會想錯過...</td>\n",
       "      <td>美國隊長3：英雄內戰\\n      Captain America: Civil War\\n</td>\n",
       "      <td>5</td>\n",
       "    </tr>\n",
       "  </tbody>\n",
       "</table>\n",
       "</div>"
      ],
      "text/plain": [
       "                                            comments  \\\n",
       "0   難看.機場戰鬥變兒戲.鋼鐵人跟美國隊長戰鬥更是沒壯觀場面.普通拳打腳踢.特效動作場面都普普通通.   \n",
       "1                            中間看到睡著,梗沒什麼變化,打來打去而已...   \n",
       "2  漫威這次終於拍出富有劇情內涵&精彩動作的電影了真的是今年目前最好看的超級英雄電影!!!如果只...   \n",
       "3  只覺得黑寡婦在這部戲裡打得好辛苦啊....演黑寡婦真的越來越不容易了!其他的不方便爆雷囉。但...   \n",
       "4  抱著一桶爆米花喝著可樂！享受接下來的時間。不過水不要喝太多！因為毫無冷場的情節你是不會想錯過...   \n",
       "\n",
       "                                            movie  star  \n",
       "0  美國隊長3：英雄內戰\\n      Captain America: Civil War\\n     1  \n",
       "1  美國隊長3：英雄內戰\\n      Captain America: Civil War\\n     3  \n",
       "2  美國隊長3：英雄內戰\\n      Captain America: Civil War\\n     5  \n",
       "3  美國隊長3：英雄內戰\\n      Captain America: Civil War\\n     5  \n",
       "4  美國隊長3：英雄內戰\\n      Captain America: Civil War\\n     5  "
      ]
     },
     "execution_count": 5,
     "metadata": {},
     "output_type": "execute_result"
    }
   ],
   "source": [
    "movies_comments = pd.read_csv(\"data/movies_comments.csv\")\n",
    "movies_comments.head()"
   ]
  },
  {
   "cell_type": "code",
   "execution_count": 6,
   "metadata": {},
   "outputs": [
    {
     "data": {
      "text/html": [
       "<div>\n",
       "<style>\n",
       "    .dataframe thead tr:only-child th {\n",
       "        text-align: right;\n",
       "    }\n",
       "\n",
       "    .dataframe thead th {\n",
       "        text-align: left;\n",
       "    }\n",
       "\n",
       "    .dataframe tbody tr th {\n",
       "        vertical-align: top;\n",
       "    }\n",
       "</style>\n",
       "<table border=\"1\" class=\"dataframe\">\n",
       "  <thead>\n",
       "    <tr style=\"text-align: right;\">\n",
       "      <th></th>\n",
       "      <th>0</th>\n",
       "      <th>1</th>\n",
       "      <th>2</th>\n",
       "    </tr>\n",
       "  </thead>\n",
       "  <tbody>\n",
       "    <tr>\n",
       "      <th>0</th>\n",
       "      <td>美國隊長3：英雄內戰</td>\n",
       "      <td>Captain America: Civil War</td>\n",
       "      <td></td>\n",
       "    </tr>\n",
       "    <tr>\n",
       "      <th>1</th>\n",
       "      <td>美國隊長3：英雄內戰</td>\n",
       "      <td>Captain America: Civil War</td>\n",
       "      <td></td>\n",
       "    </tr>\n",
       "    <tr>\n",
       "      <th>2</th>\n",
       "      <td>美國隊長3：英雄內戰</td>\n",
       "      <td>Captain America: Civil War</td>\n",
       "      <td></td>\n",
       "    </tr>\n",
       "    <tr>\n",
       "      <th>3</th>\n",
       "      <td>美國隊長3：英雄內戰</td>\n",
       "      <td>Captain America: Civil War</td>\n",
       "      <td></td>\n",
       "    </tr>\n",
       "    <tr>\n",
       "      <th>4</th>\n",
       "      <td>美國隊長3：英雄內戰</td>\n",
       "      <td>Captain America: Civil War</td>\n",
       "      <td></td>\n",
       "    </tr>\n",
       "  </tbody>\n",
       "</table>\n",
       "</div>"
      ],
      "text/plain": [
       "            0                                 1 2\n",
       "0  美國隊長3：英雄內戰        Captain America: Civil War  \n",
       "1  美國隊長3：英雄內戰        Captain America: Civil War  \n",
       "2  美國隊長3：英雄內戰        Captain America: Civil War  \n",
       "3  美國隊長3：英雄內戰        Captain America: Civil War  \n",
       "4  美國隊長3：英雄內戰        Captain America: Civil War  "
      ]
     },
     "execution_count": 6,
     "metadata": {},
     "output_type": "execute_result"
    }
   ],
   "source": [
    "movies_comments[\"movie\"].str.split(\"\\n\", 2, expand=True).head()"
   ]
  },
  {
   "cell_type": "code",
   "execution_count": 7,
   "metadata": {
    "collapsed": true
   },
   "outputs": [],
   "source": [
    "movies_comments[\"movie_cht\"] = movies_comments[\"movie\"].str.split(\"\\n\", 2, expand=True)[0] # 拆開的第一部份存成 movie_cht\n",
    "movies_comments[\"movie_eng\"] = movies_comments[\"movie\"].str.split(\"\\n\", 2, expand=True)[1] # 拆開的第二部份存成 movie_eng\n",
    "del movies_comments[\"movie\"]"
   ]
  },
  {
   "cell_type": "code",
   "execution_count": 8,
   "metadata": {},
   "outputs": [
    {
     "data": {
      "text/html": [
       "<div>\n",
       "<style>\n",
       "    .dataframe thead tr:only-child th {\n",
       "        text-align: right;\n",
       "    }\n",
       "\n",
       "    .dataframe thead th {\n",
       "        text-align: left;\n",
       "    }\n",
       "\n",
       "    .dataframe tbody tr th {\n",
       "        vertical-align: top;\n",
       "    }\n",
       "</style>\n",
       "<table border=\"1\" class=\"dataframe\">\n",
       "  <thead>\n",
       "    <tr style=\"text-align: right;\">\n",
       "      <th></th>\n",
       "      <th>comments</th>\n",
       "      <th>star</th>\n",
       "      <th>movie_cht</th>\n",
       "      <th>movie_eng</th>\n",
       "    </tr>\n",
       "  </thead>\n",
       "  <tbody>\n",
       "    <tr>\n",
       "      <th>0</th>\n",
       "      <td>難看.機場戰鬥變兒戲.鋼鐵人跟美國隊長戰鬥更是沒壯觀場面.普通拳打腳踢.特效動作場面都普普通通.</td>\n",
       "      <td>1</td>\n",
       "      <td>美國隊長3：英雄內戰</td>\n",
       "      <td>Captain America: Civil War</td>\n",
       "    </tr>\n",
       "    <tr>\n",
       "      <th>1</th>\n",
       "      <td>中間看到睡著,梗沒什麼變化,打來打去而已...</td>\n",
       "      <td>3</td>\n",
       "      <td>美國隊長3：英雄內戰</td>\n",
       "      <td>Captain America: Civil War</td>\n",
       "    </tr>\n",
       "    <tr>\n",
       "      <th>2</th>\n",
       "      <td>漫威這次終於拍出富有劇情內涵&amp;精彩動作的電影了真的是今年目前最好看的超級英雄電影!!!如果只...</td>\n",
       "      <td>5</td>\n",
       "      <td>美國隊長3：英雄內戰</td>\n",
       "      <td>Captain America: Civil War</td>\n",
       "    </tr>\n",
       "    <tr>\n",
       "      <th>3</th>\n",
       "      <td>只覺得黑寡婦在這部戲裡打得好辛苦啊....演黑寡婦真的越來越不容易了!其他的不方便爆雷囉。但...</td>\n",
       "      <td>5</td>\n",
       "      <td>美國隊長3：英雄內戰</td>\n",
       "      <td>Captain America: Civil War</td>\n",
       "    </tr>\n",
       "    <tr>\n",
       "      <th>4</th>\n",
       "      <td>抱著一桶爆米花喝著可樂！享受接下來的時間。不過水不要喝太多！因為毫無冷場的情節你是不會想錯過...</td>\n",
       "      <td>5</td>\n",
       "      <td>美國隊長3：英雄內戰</td>\n",
       "      <td>Captain America: Civil War</td>\n",
       "    </tr>\n",
       "  </tbody>\n",
       "</table>\n",
       "</div>"
      ],
      "text/plain": [
       "                                            comments  star   movie_cht  \\\n",
       "0   難看.機場戰鬥變兒戲.鋼鐵人跟美國隊長戰鬥更是沒壯觀場面.普通拳打腳踢.特效動作場面都普普通通.     1  美國隊長3：英雄內戰   \n",
       "1                            中間看到睡著,梗沒什麼變化,打來打去而已...     3  美國隊長3：英雄內戰   \n",
       "2  漫威這次終於拍出富有劇情內涵&精彩動作的電影了真的是今年目前最好看的超級英雄電影!!!如果只...     5  美國隊長3：英雄內戰   \n",
       "3  只覺得黑寡婦在這部戲裡打得好辛苦啊....演黑寡婦真的越來越不容易了!其他的不方便爆雷囉。但...     5  美國隊長3：英雄內戰   \n",
       "4  抱著一桶爆米花喝著可樂！享受接下來的時間。不過水不要喝太多！因為毫無冷場的情節你是不會想錯過...     5  美國隊長3：英雄內戰   \n",
       "\n",
       "                          movie_eng  \n",
       "0        Captain America: Civil War  \n",
       "1        Captain America: Civil War  \n",
       "2        Captain America: Civil War  \n",
       "3        Captain America: Civil War  \n",
       "4        Captain America: Civil War  "
      ]
     },
     "execution_count": 8,
     "metadata": {},
     "output_type": "execute_result"
    }
   ],
   "source": [
    "movies_comments.head()"
   ]
  },
  {
   "cell_type": "code",
   "execution_count": 9,
   "metadata": {
    "collapsed": true
   },
   "outputs": [],
   "source": [
    "movies_comments.to_csv(\"data/movies_comments_revised.csv\", index = False, encoding=\"utf-8\") # 儲存清洗後的資料"
   ]
  },
  {
   "cell_type": "markdown",
   "metadata": {},
   "source": [
    "## 文字探勘與文字雲\n",
    "這邊會利用 jieba, wordcloud 這兩個套件，帶大家玩一些簡單的文字探勘，並用文字雲把斷詞後的結果畫出來"
   ]
  },
  {
   "cell_type": "code",
   "execution_count": 10,
   "metadata": {
    "collapsed": true
   },
   "outputs": [],
   "source": [
    "import jieba\n",
    "import jieba.analyse\n",
    "import numpy as np\n",
    "from wordcloud import WordCloud\n",
    "from collections import Counter\n",
    "from PIL import Image\n",
    "import matplotlib.pyplot as plt\n",
    "\n",
    "plt.rcParams['font.sans-serif']=['SimHei'] # 設定 matplotlib 的中文字體\n",
    "jieba.set_dictionary('data/dict.txt.big')  # 設定 jiebe 使用斷詞的語料庫"
   ]
  },
  {
   "cell_type": "code",
   "execution_count": 11,
   "metadata": {
    "collapsed": true
   },
   "outputs": [],
   "source": [
    "movies_comments = pd.read_csv(\"data/movies_comments_revised.csv\")\n",
    "neg = movies_comments[(movies_comments[\"star\"] == 1)]  # 取出所有一顆星的評論\n",
    "pos = movies_comments[(movies_comments[\"star\"] == 5)]  # 取出所有五顆星的評論"
   ]
  },
  {
   "cell_type": "code",
   "execution_count": 12,
   "metadata": {
    "collapsed": true
   },
   "outputs": [],
   "source": [
    "neg_text = ''.join(neg[\"comments\"])  # 將 list of string 轉變成一個大字串\n",
    "pos_text = ''.join(pos[\"comments\"])  # 將 list of string 轉變成一個大字串"
   ]
  },
  {
   "cell_type": "code",
   "execution_count": 13,
   "metadata": {},
   "outputs": [
    {
     "name": "stderr",
     "output_type": "stream",
     "text": [
      "Building prefix dict from C:\\Users\\jimmy\\Documents\\GitHub\\dsc-crawling\\Session_B\\practice\\data\\dict.txt.big ...\n",
      "Loading model from cache C:\\Users\\jimmy\\AppData\\Local\\Temp\\jieba.uef1272f50990cb768dbca893a9616da4.cache\n",
      "Loading model cost 1.054 seconds.\n",
      "Prefix dict has been built succesfully.\n"
     ]
    }
   ],
   "source": [
    "jieba.add_word('不好看') # 加上不好看這個詞"
   ]
  },
  {
   "cell_type": "code",
   "execution_count": null,
   "metadata": {
    "collapsed": true
   },
   "outputs": [],
   "source": [
    "neg_list = jieba.cut(neg_text)  # 將大字串斷詞後變成一個 list\n",
    "pos_list = jieba.cut(pos_text)  # 將大字串斷詞後變成一個 list"
   ]
  },
  {
   "cell_type": "code",
   "execution_count": null,
   "metadata": {
    "collapsed": true
   },
   "outputs": [],
   "source": [
    "with open('data/stop_words.txt','r', encoding='utf-8') as f:\n",
    "    stopwords = f.readlines()\n",
    "    stopwords = [x.replace(\"\\n\",\"\") for x in stopwords]\n",
    "    \n",
    "neg_text_filtered = ' '.join([word for word in neg_list if word not in stopwords]) #將停止詞濾掉\n",
    "pos_text_filtered = ' '.join([word for word in pos_list if word not in stopwords]) #將停止詞濾掉"
   ]
  },
  {
   "cell_type": "code",
   "execution_count": null,
   "metadata": {
    "collapsed": true
   },
   "outputs": [],
   "source": [
    "neg_text_list = [item for item in neg_text_filtered.split(\" \") if item.split()] #保留非空白的詞\n",
    "pos_text_list = [item for item in pos_text_filtered.split(\" \") if item.split()] #保留非空白的詞"
   ]
  },
  {
   "cell_type": "code",
   "execution_count": null,
   "metadata": {},
   "outputs": [],
   "source": [
    "neg_counter = Counter(neg_text_list) # Counter 可以幫忙對 list 做記數\n",
    "print(neg_counter.most_common(20))"
   ]
  },
  {
   "cell_type": "code",
   "execution_count": null,
   "metadata": {},
   "outputs": [],
   "source": [
    "pos_counter = Counter(pos_text_list) # Counter 可以幫忙對 list 做記數\n",
    "print(pos_counter.most_common(20))"
   ]
  },
  {
   "cell_type": "code",
   "execution_count": null,
   "metadata": {
    "collapsed": true
   },
   "outputs": [],
   "source": [
    "mask_use = \"data/circle_mask.png\" # 可以改成 \"data/Alice_mask.jpg\"，在重新執行程式，看看文字雲會怎麼變化\n",
    "mask = np.array(Image.open(mask_use))"
   ]
  },
  {
   "cell_type": "code",
   "execution_count": null,
   "metadata": {},
   "outputs": [],
   "source": [
    "wordcloud = WordCloud(background_color=\"white\", # 設定背景顏色\n",
    "                      mask=mask, # 決定圖片的形狀\n",
    "                      max_font_size=100, # 字體大小\n",
    "                      font_path='data/NotoSansCJKtc-Black.otf', # 設定字型\n",
    "                      random_state=38).fit_words(neg_counter) # 丟入文字\n",
    "\n",
    "plt.imshow(wordcloud, interpolation='bilinear')\n",
    "plt.title(\"one_star\")\n",
    "plt.axis(\"off\")\n",
    "plt.savefig(\"plots/one_star_wordcloud.png\", dpi = 700)\n",
    "plt.show()"
   ]
  },
  {
   "cell_type": "code",
   "execution_count": null,
   "metadata": {},
   "outputs": [],
   "source": [
    "wordcloud = WordCloud(background_color=\"white\",\n",
    "                      mask=mask, max_font_size=100, \n",
    "                      font_path='data/NotoSansCJKtc-Black.otf', \n",
    "                      random_state=38).fit_words(pos_counter)\n",
    "\n",
    "plt.imshow(wordcloud, interpolation='bilinear')\n",
    "plt.title(\"five_stars\")\n",
    "plt.axis(\"off\")\n",
    "plt.savefig(\"plots/five_star_wordcloud.png\", dpi = 700)\n",
    "plt.show()"
   ]
  },
  {
   "cell_type": "markdown",
   "metadata": {},
   "source": [
    "### 透過 TF - IDF 進行文字分析"
   ]
  },
  {
   "cell_type": "code",
   "execution_count": null,
   "metadata": {
    "collapsed": true
   },
   "outputs": [],
   "source": [
    "jieba.analyse.set_stop_words(stop_words_path='data/stop_words.txt')"
   ]
  },
  {
   "cell_type": "code",
   "execution_count": null,
   "metadata": {},
   "outputs": [],
   "source": [
    "pos_words = jieba.analyse.extract_tags(pos_text, 500, withWeight=True)\n",
    "print(\"TF-IDF 正面評價詞: \", pos_words[:20])"
   ]
  },
  {
   "cell_type": "code",
   "execution_count": null,
   "metadata": {},
   "outputs": [],
   "source": [
    "neg_words = jieba.analyse.extract_tags(neg_text, 500, withWeight=True)\n",
    "print(\"TF-IDF 負面評價詞: \", neg_words[:20])"
   ]
  },
  {
   "cell_type": "code",
   "execution_count": null,
   "metadata": {},
   "outputs": [],
   "source": [
    "# 經過 TF-IDF 篩選過之後的文字雲\n",
    "wordcloud = WordCloud(background_color=\"white\", \n",
    "                      mask=mask,\n",
    "                      max_font_size=100,\n",
    "                      font_path='data/NotoSansCJKtc-Black.otf', \n",
    "                      random_state=8).fit_words(dict(neg_words))\n",
    "\n",
    "plt.imshow(wordcloud, interpolation='bilinear')\n",
    "plt.title(\"one_star\")\n",
    "plt.axis(\"off\")\n",
    "plt.savefig(\"plots/one_star_wordcloud_tfidf.png\", dpi = 700)\n",
    "plt.show()"
   ]
  },
  {
   "cell_type": "code",
   "execution_count": null,
   "metadata": {},
   "outputs": [],
   "source": [
    "# 經過 TF-IDF 篩選過之後的文字雲\n",
    "wordcloud = WordCloud(background_color=\"white\",\n",
    "                      mask=mask,\n",
    "                      max_font_size=100,\n",
    "                      font_path='data/NotoSansCJKtc-Black.otf', \n",
    "                      random_state=8).fit_words(dict(pos_words)) \n",
    "\n",
    "plt.imshow(wordcloud, interpolation='bilinear')\n",
    "plt.title(\"five_stars\")\n",
    "plt.axis(\"off\")\n",
    "plt.savefig(\"plots/five_star_wordcloud_tfidf.png\", dpi = 700)\n",
    "plt.show()"
   ]
  },
  {
   "cell_type": "markdown",
   "metadata": {},
   "source": [
    "###  regression 與 classification \n",
    "\n",
    "這邊對我們的票房資料做一些簡單的回歸與分類\n",
    "regression 使用 linear regression，classification 則會使用 decision tree"
   ]
  },
  {
   "cell_type": "code",
   "execution_count": null,
   "metadata": {},
   "outputs": [],
   "source": [
    "# import 套件\n",
    "from sklearn.linear_model import LinearRegression\n",
    "from sklearn.model_selection import train_test_split\n",
    "from scipy.stats import pearsonr"
   ]
  },
  {
   "cell_type": "code",
   "execution_count": null,
   "metadata": {
    "collapsed": true
   },
   "outputs": [],
   "source": [
    "movie_box = pd.read_csv(\"data/movies_box_office_revised.csv\")  # 讀取票房資料"
   ]
  },
  {
   "cell_type": "code",
   "execution_count": null,
   "metadata": {},
   "outputs": [],
   "source": [
    "movie_box.head()"
   ]
  },
  {
   "cell_type": "code",
   "execution_count": null,
   "metadata": {},
   "outputs": [],
   "source": [
    "movie_box[\"平均星等\"] = movies_comments.groupby(\"movie_cht\", sort=False)[\"star\"].mean().values # 將平均星等放進票房資料的 DF\n",
    "movie_box.head()"
   ]
  },
  {
   "cell_type": "code",
   "execution_count": null,
   "metadata": {},
   "outputs": [],
   "source": [
    "# 切 training data 跟 testing data\n",
    "X_train, X_test, y_train, y_test = train_test_split(movie_box[\"平均星等\"], np.log10(movie_box[\"平均票房\"]), random_state = 22)\n",
    "\n",
    "# 建立 LinearRegression 模型\n",
    "reg = LinearRegression()\n",
    "\n",
    "# 放進 traingin data 進行訓練 (因為只有一個自變數，新版的 sklearn 必須做 reshape)\n",
    "reg.fit(X = X_train.values.reshape(-1, 1), y = y_train)\n",
    "\n",
    "# 用 testing data 做 prediction\n",
    "y_pred = reg.predict(X_test.values.reshape(-1, 1))\n",
    "\n",
    "# 算出 testing data 與預測結果的 correlation\n",
    "print(pearsonr(y_pred, y_test)[0])"
   ]
  },
  {
   "cell_type": "code",
   "execution_count": null,
   "metadata": {},
   "outputs": [],
   "source": [
    "# 把全部的 data 畫上 fit 之後的線\n",
    "reg.fit(X = movie_box[\"平均星等\"].values.reshape(-1, 1), y = np.log10(movie_box[\"平均票房\"]))\n",
    "y_pred = reg.predict(movie_box[\"平均星等\"].values.reshape(-1, 1))\n",
    "\n",
    "plt.plot(movie_box[\"平均星等\"], np.log10(movie_box[\"平均票房\"]), \".\")\n",
    "plt.plot(movie_box[\"平均星等\"], y_pred)\n",
    "plt.xlabel(\"評論星等\")\n",
    "plt.ylabel(\"平均票房 (log10)\")\n",
    "plt.savefig(\"plots/scatter_plot_star_movie.png\", dpi = 700)\n",
    "plt.tight_layout\n",
    "plt.show()"
   ]
  },
  {
   "cell_type": "markdown",
   "metadata": {},
   "source": [
    "### 1. 加上更多 features\n",
    "加上評論數量、映期等其他 features，看看 performace 會不會變好"
   ]
  },
  {
   "cell_type": "code",
   "execution_count": null,
   "metadata": {
    "collapsed": true
   },
   "outputs": [],
   "source": [
    "movie_box[\"評論數量\"] = movies_comments.groupby(\"movie_cht\", as_index=False, sort=False).size().values"
   ]
  },
  {
   "cell_type": "code",
   "execution_count": null,
   "metadata": {},
   "outputs": [],
   "source": [
    "movie_box.head()"
   ]
  },
  {
   "cell_type": "code",
   "execution_count": null,
   "metadata": {},
   "outputs": [],
   "source": [
    "# 做 train/test split\n",
    "X_train, X_test, y_train, y_test = train_test_split(movie_box[[\"評論數量\", \"平均星等\", \"映期\"]], np.log10(movie_box[\"平均票房\"]), random_state = 22)\n",
    "\n",
    "# 訓練模型\n",
    "reg.fit(X = X_train, y = y_train)\n",
    "\n",
    "# 用 testing data 做預測\n",
    "y_pred = reg.predict(X_test)\n",
    "\n",
    "# 算出 testing data 與預測結果的 correlation\n",
    "print(pearsonr(y_pred, y_test)[0])"
   ]
  },
  {
   "cell_type": "code",
   "execution_count": null,
   "metadata": {},
   "outputs": [],
   "source": [
    "# 把預測結果畫成 Scatter plot\n",
    "plt.scatter(x=y_pred, y=y_test)\n",
    "plt.xlabel(\"y_pred\")\n",
    "plt.ylabel(\"y_true\")\n",
    "plt.text(6.9, 6.05, \"六弄咖啡館\")\n",
    "plt.show()"
   ]
  },
  {
   "cell_type": "markdown",
   "metadata": {},
   "source": [
    "## 2. 改成分類問題"
   ]
  },
  {
   "cell_type": "code",
   "execution_count": null,
   "metadata": {
    "collapsed": true
   },
   "outputs": [],
   "source": [
    "from sklearn.tree import DecisionTreeClassifier\n",
    "from sklearn.metrics import accuracy_score"
   ]
  },
  {
   "cell_type": "code",
   "execution_count": null,
   "metadata": {},
   "outputs": [],
   "source": [
    "movie_box.head()"
   ]
  },
  {
   "cell_type": "code",
   "execution_count": null,
   "metadata": {
    "collapsed": true
   },
   "outputs": [],
   "source": [
    "movie_box[\"叫座\"] = (movie_box[\"平均票房\"] > movie_box[\"平均票房\"].median()) * 1  # 設定 叫座 = 平均票房大於中位數"
   ]
  },
  {
   "cell_type": "code",
   "execution_count": null,
   "metadata": {
    "collapsed": true
   },
   "outputs": [],
   "source": [
    "X_train, X_test, y_train, y_test = train_test_split(movie_box[[\"評論數量\", \"平均星等\", \"映期\"]], movie_box[\"叫座\"], random_state = 22)"
   ]
  },
  {
   "cell_type": "code",
   "execution_count": null,
   "metadata": {},
   "outputs": [],
   "source": [
    "clf = DecisionTreeClassifier(max_depth=3) # 限定最大深度不得超過 3 \n",
    "clf.fit(X_train, y_train)"
   ]
  },
  {
   "cell_type": "code",
   "execution_count": null,
   "metadata": {},
   "outputs": [],
   "source": [
    "print(\"feature importance\")\n",
    "print(\"評論數量: \",clf.feature_importances_[0])\n",
    "print(\"平均星等: \",clf.feature_importances_[1])\n",
    "print(\"映期: \",clf.feature_importances_[2])"
   ]
  },
  {
   "cell_type": "code",
   "execution_count": null,
   "metadata": {
    "collapsed": true
   },
   "outputs": [],
   "source": [
    "y_pred = clf.predict(X_test)  # 使用 testing data 做預測"
   ]
  },
  {
   "cell_type": "code",
   "execution_count": null,
   "metadata": {},
   "outputs": [],
   "source": [
    "print(\"準確率: \", accuracy_score(y_test, y_pred)) # 計算 testing data 的準確率"
   ]
  },
  {
   "cell_type": "markdown",
   "metadata": {},
   "source": [
    "### 簡單的 EDA"
   ]
  },
  {
   "cell_type": "code",
   "execution_count": null,
   "metadata": {},
   "outputs": [],
   "source": [
    "# 評價低卻在票房排行榜上的電影\n",
    "plt.rcParams['font.sans-serif']=['SimHei'] # 使用微軟正黑體\n",
    "movies_comments.groupby(\"movie_cht\")[\"star\"].mean().sort_values().head(30).plot.bar()\n",
    "plt.ylabel(\"average star\")\n",
    "plt.tight_layout()\n",
    "plt.savefig(\"plots/average_star.png\", dpi = 500)\n",
    "plt.show()"
   ]
  },
  {
   "cell_type": "code",
   "execution_count": null,
   "metadata": {},
   "outputs": [],
   "source": [
    "# 2016 與 2017 的平均票房差異 (2017 年度還沒結束)\n",
    "movie_box.groupby(\"年度\", as_index=False, sort=False)[\"平均票房\"].mean()"
   ]
  },
  {
   "cell_type": "code",
   "execution_count": null,
   "metadata": {},
   "outputs": [],
   "source": [
    "# 平均票房排行榜\n",
    "movie_box.sort_values(by=\"平均票房\", ascending=False)[[\"中文片名\", \"平均票房\"]][:10].plot(\"中文片名\", \"平均票房\", kind=\"bar\")\n",
    "plt.show()"
   ]
  }
 ],
 "metadata": {
  "anaconda-cloud": {},
  "kernelspec": {
   "display_name": "Python 3",
   "language": "python",
   "name": "python3"
  },
  "language_info": {
   "codemirror_mode": {
    "name": "ipython",
    "version": 3
   },
   "file_extension": ".py",
   "mimetype": "text/x-python",
   "name": "python",
   "nbconvert_exporter": "python",
   "pygments_lexer": "ipython3",
   "version": "3.6.1"
  }
 },
 "nbformat": 4,
 "nbformat_minor": 1
}
