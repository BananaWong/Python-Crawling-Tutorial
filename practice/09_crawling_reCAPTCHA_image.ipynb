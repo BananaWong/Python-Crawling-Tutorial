{
 "cells": [
  {
   "cell_type": "markdown",
   "metadata": {},
   "source": [
    "# 練習\n",
    "\n",
    "- https://www.google.com/recaptcha/demo/recaptcha\n",
    "- 透過 google reCAPTCHA demo 生成圖片\n",
    "- 將 reCAPTCHA 的圖片抓下來"
   ]
  },
  {
   "cell_type": "code",
   "execution_count": 16,
   "metadata": {
    "collapsed": true
   },
   "outputs": [],
   "source": [
    "import os\n",
    "import hashlib\n",
    "import requests\n",
    "\n",
    "from selenium import webdriver\n",
    "from selenium.webdriver.common.keys import Keys\n",
    "from selenium.webdriver.common.by import By\n",
    "from selenium.webdriver.support.ui import WebDriverWait\n",
    "from selenium.webdriver.support import expected_conditions as EC\n",
    "\n",
    "from fake_useragent import UserAgent\n",
    "from PIL import Image\n",
    "\n",
    "url = 'https://www.google.com/recaptcha/demo/recaptcha'\n",
    "fu = UserAgent()"
   ]
  },
  {
   "cell_type": "code",
   "execution_count": 28,
   "metadata": {},
   "outputs": [],
   "source": [
    "class ReloadImage(object):\n",
    "    def __init__(self, locator, xpath, compare):\n",
    "        self.locator = locator\n",
    "        self.xpath = xpath\n",
    "        self.compare = compare\n",
    "    def __call__(self, driver):\n",
    "        element = driver.find_element(self.locator, self.xpath)\n",
    "        attr = element.get_attribute('src')\n",
    "        if attr != self.compare:\n",
    "            return element\n",
    "        else:\n",
    "            return False"
   ]
  },
  {
   "cell_type": "code",
   "execution_count": 39,
   "metadata": {},
   "outputs": [
    {
     "name": "stdout",
     "output_type": "stream",
     "text": [
      "Save img - /home/dirl/github/Python-Crawling-Tutorial/results/dcc521eea7e48f005685d58e770fc9be.JPEG\n",
      "click\n",
      "Save img - /home/dirl/github/Python-Crawling-Tutorial/results/6cf5653979671789ef664c9122f83f6f.JPEG\n",
      "click\n",
      "Message: chrome not reachable\n",
      "  (Session info: chrome=64.0.3282.119)\n",
      "  (Driver info: chromedriver=2.35.528139 (47ead77cb35ad2a9a83248b292151462a66cd881),platform=Linux 4.13.0-26-generic x86_64)\n",
      "\n"
     ]
    }
   ],
   "source": [
    "results = os.path.abspath('../results')\n",
    "if not os.path.exists(results):\n",
    "    os.makedirs(results)\n",
    "\n",
    "try:\n",
    "    driver = webdriver.Chrome()\n",
    "    driver.get(url)\n",
    "    driver.maximize_window()\n",
    "    wait = WebDriverWait(driver, 10)\n",
    "    compare_url = ''\n",
    "    \n",
    "    for i in range(5):\n",
    "        # get image\n",
    "        #img_el = driver.find_element(By.XPATH, '//div[@id=\"recaptcha_image\"]/img')\n",
    "        img_el = wait.until(ReloadImage(By.XPATH, '//div[@id=\"recaptcha_image\"]/img', compare_url))\n",
    "        img_url = img_el.get_attribute('src')\n",
    "        img_filename = hashlib.md5(img_url.encode('utf-8')).hexdigest()\n",
    "        compare_url = img_url\n",
    "\n",
    "        headers = {'User-Agent': fu.random}\n",
    "        img_resp = requests.get(img_url, stream=True, headers=headers)\n",
    "        img = Image.open(img_resp.raw)\n",
    "        img_filename = '{}.{}'.format(img_filename, img.format)\n",
    "        img_filename = os.path.join(results, img_filename)\n",
    "        img.save(img_filename)\n",
    "        print('Save img - {}'.format(img_filename))\n",
    "        \n",
    "        # re-generate image\n",
    "        btn_refresh = driver.find_element(By.XPATH, '//*[@id=\"recaptcha_reload_btn\"]').click()\n",
    "        print('click')\n",
    "        \n",
    "\n",
    "except Exception as e:\n",
    "    print(e)\n",
    "finally:\n",
    "    driver.quit()"
   ]
  }
 ],
 "metadata": {
  "kernelspec": {
   "display_name": "Python 3",
   "language": "python",
   "name": "python3"
  },
  "language_info": {
   "codemirror_mode": {
    "name": "ipython",
    "version": 3
   },
   "file_extension": ".py",
   "mimetype": "text/x-python",
   "name": "python",
   "nbconvert_exporter": "python",
   "pygments_lexer": "ipython3",
   "version": "3.5.2"
  }
 },
 "nbformat": 4,
 "nbformat_minor": 2
}
