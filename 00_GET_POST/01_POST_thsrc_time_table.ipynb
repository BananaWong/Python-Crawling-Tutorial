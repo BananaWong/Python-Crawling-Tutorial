{
 "cells": [
  {
   "cell_type": "markdown",
   "metadata": {},
   "source": [
    "# 練習\n",
    "\n",
    "- 觀察 https://www.thsrc.com.tw/tw/TimeTable/SearchResult 並撰寫爬蟲程式\n",
    "- 抓取一個禮拜後的高鐵時刻表\n",
    "- 台北到台南下午兩點的班次\n",
    "- 使用 requests + BeautifulSoup 實作\n",
    "- 透過 pandas 輸出成 csv"
   ]
  },
  {
   "cell_type": "code",
   "execution_count": 1,
   "metadata": {},
   "outputs": [],
   "source": [
    "import os\n",
    "import requests\n",
    "import pandas as pd\n",
    "import datetime\n",
    "\n",
    "from bs4 import BeautifulSoup\n",
    "\n",
    "url = 'https://www.thsrc.com.tw/tw/TimeTable/SearchResult'"
   ]
  },
  {
   "cell_type": "code",
   "execution_count": 2,
   "metadata": {},
   "outputs": [
    {
     "name": "stdout",
     "output_type": "stream",
     "text": [
      "The date after one week - 2018/02/28\n"
     ]
    }
   ],
   "source": [
    "after_one_week = datetime.datetime.now() + datetime.timedelta(weeks=1)\n",
    "after_one_week_format = after_one_week.strftime('%Y/%m/%d')\n",
    "print('The date after one week - {}'.format(after_one_week_format))\n",
    "\n",
    "form_data = {\n",
    "    'StartStation': '977abb69-413a-4ccf-a109-0272c24fd490',\n",
    "    'EndStation': '9c5ac6ca-ec89-48f8-aab0-41b738cb1814',\n",
    "    'SearchDate': after_one_week_format,\n",
    "    'SearchTime': '14:00',\n",
    "    'SearchWay': 'DepartureInMandarin',\n",
    "    'RestTime': '',\n",
    "    'EarlyOrLater': ''\n",
    "}"
   ]
  },
  {
   "cell_type": "code",
   "execution_count": 3,
   "metadata": {},
   "outputs": [],
   "source": [
    "resp = requests.post(url, data=form_data)\n",
    "resp.encoding = 'utf-8'\n",
    "soup = BeautifulSoup(resp.text, 'lxml')"
   ]
  },
  {
   "cell_type": "code",
   "execution_count": 18,
   "metadata": {},
   "outputs": [
    {
     "name": "stdout",
     "output_type": "stream",
     "text": [
      "20\n"
     ]
    },
    {
     "ename": "TypeError",
     "evalue": "unhashable type: 'list'",
     "output_type": "error",
     "traceback": [
      "\u001b[0;31m---------------------------------------------------------------------------\u001b[0m",
      "\u001b[0;31mTypeError\u001b[0m                                 Traceback (most recent call last)",
      "\u001b[0;32m<ipython-input-18-c28c428f364f>\u001b[0m in \u001b[0;36m<module>\u001b[0;34m()\u001b[0m\n\u001b[1;32m     21\u001b[0m \u001b[0;34m\u001b[0m\u001b[0m\n\u001b[1;32m     22\u001b[0m \u001b[0mprint\u001b[0m\u001b[0;34m(\u001b[0m\u001b[0mlen\u001b[0m\u001b[0;34m(\u001b[0m\u001b[0mrows\u001b[0m\u001b[0;34m)\u001b[0m\u001b[0;34m)\u001b[0m\u001b[0;34m\u001b[0m\u001b[0m\n\u001b[0;32m---> 23\u001b[0;31m \u001b[0mprint\u001b[0m\u001b[0;34m(\u001b[0m\u001b[0mset\u001b[0m\u001b[0;34m(\u001b[0m\u001b[0mrows\u001b[0m\u001b[0;34m)\u001b[0m\u001b[0;34m)\u001b[0m\u001b[0;34m\u001b[0m\u001b[0m\n\u001b[0m\u001b[1;32m     24\u001b[0m \u001b[0mdf\u001b[0m \u001b[0;34m=\u001b[0m \u001b[0mpd\u001b[0m\u001b[0;34m.\u001b[0m\u001b[0mDataFrame\u001b[0m\u001b[0;34m(\u001b[0m\u001b[0mrows\u001b[0m\u001b[0;34m,\u001b[0m \u001b[0mcolumns\u001b[0m\u001b[0;34m=\u001b[0m\u001b[0mcolname\u001b[0m\u001b[0;34m)\u001b[0m\u001b[0;34m\u001b[0m\u001b[0m\n\u001b[1;32m     25\u001b[0m \u001b[0mdf\u001b[0m\u001b[0;34m\u001b[0m\u001b[0m\n",
      "\u001b[0;31mTypeError\u001b[0m: unhashable type: 'list'"
     ]
    }
   ],
   "source": [
    "rows = soup.table.find_all('tr')\n",
    "\n",
    "colname, rows = rows[1], rows[2:]\n",
    "colname = list(colname.stripped_strings)\n",
    "\n",
    "for i, row in enumerate(rows):\n",
    "    trips = row.find('td', class_='column1')\n",
    "    t_departure = row.find('td', class_='column3')\n",
    "    t_arrive = row.find('td', class_='column4')\n",
    "    duration = row.find('td', class_='column2')\n",
    "    early_ticket = row.find('td', class_='Width1')\n",
    "    \n",
    "    trips = trips.text if trips else None\n",
    "    t_departure = t_departure.text if t_departure else ''\n",
    "    t_arrive = t_arrive.text if t_arrive else ''\n",
    "    duration = duration.text if duration else ''\n",
    "    early_ticket = list(early_ticket.stripped_strings) if early_ticket else ''\n",
    "    early_ticket = early_ticket[0] if early_ticket else ''\n",
    "    \n",
    "    rows[i] = [trips, t_departure, t_arrive, duration, early_ticket]\n",
    "\n",
    "print(len(rows))\n",
    "df = pd.DataFrame(rows, columns=colname)\n",
    "df"
   ]
  },
  {
   "cell_type": "code",
   "execution_count": 5,
   "metadata": {},
   "outputs": [
    {
     "name": "stdout",
     "output_type": "stream",
     "text": [
      "Save csv to /home/afun/github/Python-Crawling-Tutorial/results/thsrc_20180209.csv\n"
     ]
    }
   ],
   "source": [
    "results = os.path.abspath('../results')\n",
    "if not os.path.exists(results):\n",
    "    os.makedirs(results)\n",
    "\n",
    "filename = os.path.join(results, 'thsrc_{}.csv'.format(after_one_week.strftime('%Y%m%d')))\n",
    "df.to_csv(filename, index=False)\n",
    "print('Save csv to {}'.format(filename))"
   ]
  }
 ],
 "metadata": {
  "kernelspec": {
   "display_name": "Python 3",
   "language": "python",
   "name": "python3"
  },
  "language_info": {
   "codemirror_mode": {
    "name": "ipython",
    "version": 3
   },
   "file_extension": ".py",
   "mimetype": "text/x-python",
   "name": "python",
   "nbconvert_exporter": "python",
   "pygments_lexer": "ipython3",
   "version": "3.5.2"
  }
 },
 "nbformat": 4,
 "nbformat_minor": 2
}
