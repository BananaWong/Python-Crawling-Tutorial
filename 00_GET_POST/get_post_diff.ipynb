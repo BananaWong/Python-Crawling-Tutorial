{
 "cells": [
  {
   "cell_type": "markdown",
   "metadata": {},
   "source": [
    "# 觀察 GET / POST 的差別\n",
    "\n",
    "透過 postman 網站的測試觀察 GET 與 POST 之間的差別\n",
    "\n",
    "- https://docs.postman-echo.com/"
   ]
  },
  {
   "cell_type": "code",
   "execution_count": 1,
   "metadata": {},
   "outputs": [],
   "source": [
    "import requests\n",
    "from pprint import pformat"
   ]
  },
  {
   "cell_type": "markdown",
   "metadata": {},
   "source": [
    "## GET request\n",
    "\n",
    "- 觀察回傳的內容\n",
    "- 觀察 URL"
   ]
  },
  {
   "cell_type": "code",
   "execution_count": 2,
   "metadata": {},
   "outputs": [],
   "source": [
    "get_url = 'https://postman-echo.com/get'\n",
    "query = {\n",
    "    'name': 'afun',\n",
    "    'msg': 'A Foolish Consistency is the Hobgoblin of Little Minds'\n",
    "}\n",
    "\n",
    "get_resp = requests.get(get_url, params=query)"
   ]
  },
  {
   "cell_type": "code",
   "execution_count": 3,
   "metadata": {},
   "outputs": [
    {
     "name": "stdout",
     "output_type": "stream",
     "text": [
      "response text ('{\"args\":{\"name\":\"afun\",\"msg\":\"A Foolish Consistency is the Hobgoblin of '\n",
      " 'Little '\n",
      " 'Minds\"},\"headers\":{\"host\":\"postman-echo.com\",\"accept\":\"*/*\",\"accept-encoding\":\"gzip, '\n",
      " 'deflate\",\"user-agent\":\"python-requests/2.19.1\",\"x-forwarded-port\":\"443\",\"x-forwarded-proto\":\"https\"},\"url\":\"https://postman-echo.com/get?name=afun&msg=A+Foolish+Consistency+is+the+Hobgoblin+of+Little+Minds\"}')\n",
      "=======================================================================================\n",
      "original URL - https://postman-echo.com/get\n",
      "GET URL - https://postman-echo.com/get?name=afun&msg=A+Foolish+Consistency+is+the+Hobgoblin+of+Little+Minds\n"
     ]
    }
   ],
   "source": [
    "print('response text', pformat(get_resp.text))\n",
    "print('='*87)\n",
    "print('original URL -', get_url)\n",
    "print('GET URL -', get_resp.url)"
   ]
  },
  {
   "cell_type": "markdown",
   "metadata": {},
   "source": [
    "## POST request\n",
    "\n",
    "- 觀察回傳的內容\n",
    "- 觀察 URL"
   ]
  },
  {
   "cell_type": "code",
   "execution_count": 4,
   "metadata": {},
   "outputs": [],
   "source": [
    "post_url = 'https://postman-echo.com/post'\n",
    "payload = 'A Foolish Consistency is the Hobgoblin of Little Minds'\n",
    "\n",
    "post_resp = requests.post(post_url, data=payload)"
   ]
  },
  {
   "cell_type": "code",
   "execution_count": 5,
   "metadata": {},
   "outputs": [
    {
     "name": "stdout",
     "output_type": "stream",
     "text": [
      "response text ('{\"args\":{},\"data\":{},\"files\":{},\"form\":{},\"headers\":{\"host\":\"postman-echo.com\",\"content-length\":\"54\",\"accept\":\"*/*\",\"accept-encoding\":\"gzip, '\n",
      " 'deflate\",\"user-agent\":\"python-requests/2.19.1\",\"x-forwarded-port\":\"443\",\"x-forwarded-proto\":\"https\"},\"json\":null,\"url\":\"https://postman-echo.com/post\"}')\n",
      "=======================================================================================\n",
      "original URL - https://postman-echo.com/post\n",
      "GET URL - https://postman-echo.com/post\n"
     ]
    }
   ],
   "source": [
    "print('response text', pformat(post_resp.text))\n",
    "print('='*87)\n",
    "print('original URL -', post_url)\n",
    "print('GET URL -', post_resp.url)"
   ]
  },
  {
   "cell_type": "code",
   "execution_count": 6,
   "metadata": {},
   "outputs": [],
   "source": [
    "query = {\n",
    "    'name': 'afun',\n",
    "    'msg': 'A Foolish Consistency is the Hobgoblin of Little Minds'\n",
    "}\n",
    "post_form_data_resp = requests.post(post_url, data=query)"
   ]
  },
  {
   "cell_type": "code",
   "execution_count": 7,
   "metadata": {},
   "outputs": [
    {
     "name": "stdout",
     "output_type": "stream",
     "text": [
      "response text ('{\"args\":{},\"data\":\"\",\"files\":{},\"form\":{\"name\":\"afun\",\"msg\":\"A Foolish '\n",
      " 'Consistency is the Hobgoblin of Little '\n",
      " 'Minds\"},\"headers\":{\"host\":\"postman-echo.com\",\"content-length\":\"68\",\"accept\":\"*/*\",\"accept-encoding\":\"gzip, '\n",
      " 'deflate\",\"content-type\":\"application/x-www-form-urlencoded\",\"user-agent\":\"python-requests/2.19.1\",\"x-forwarded-port\":\"443\",\"x-forwarded-proto\":\"https\"},\"json\":{\"name\":\"afun\",\"msg\":\"A '\n",
      " 'Foolish Consistency is the Hobgoblin of Little '\n",
      " 'Minds\"},\"url\":\"https://postman-echo.com/post\"}')\n",
      "=======================================================================================\n",
      "original URL - https://postman-echo.com/post\n",
      "GET URL - https://postman-echo.com/post\n"
     ]
    }
   ],
   "source": [
    "print('response text', pformat(post_form_data_resp.text))\n",
    "print('='*87)\n",
    "print('original URL -', post_url)\n",
    "print('GET URL -', post_form_data_resp.url)"
   ]
  }
 ],
 "metadata": {
  "kernelspec": {
   "display_name": "Python 3",
   "language": "python",
   "name": "python3"
  },
  "language_info": {
   "codemirror_mode": {
    "name": "ipython",
    "version": 3
   },
   "file_extension": ".py",
   "mimetype": "text/x-python",
   "name": "python",
   "nbconvert_exporter": "python",
   "pygments_lexer": "ipython3",
   "version": "3.6.6"
  }
 },
 "nbformat": 4,
 "nbformat_minor": 2
}
